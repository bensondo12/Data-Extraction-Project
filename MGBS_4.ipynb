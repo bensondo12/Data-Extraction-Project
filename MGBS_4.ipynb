{
  "nbformat": 4,
  "nbformat_minor": 0,
  "metadata": {
    "colab": {
      "provenance": [],
      "include_colab_link": true
    },
    "kernelspec": {
      "name": "python3",
      "display_name": "Python 3"
    },
    "language_info": {
      "name": "python"
    }
  },
  "cells": [
    {
      "cell_type": "markdown",
      "metadata": {
        "id": "view-in-github",
        "colab_type": "text"
      },
      "source": [
        "<a href=\"https://colab.research.google.com/github/bensondo12/Data-Extraction-Project/blob/main/MGBS_4.ipynb\" target=\"_parent\"><img src=\"https://colab.research.google.com/assets/colab-badge.svg\" alt=\"Open In Colab\"/></a>"
      ]
    },
    {
      "cell_type": "code",
      "execution_count": null,
      "metadata": {
        "id": "4_lGgndgo67K"
      },
      "outputs": [],
      "source": [
        "from urllib.request import Request, urlopen\n",
        "from bs4 import BeautifulSoup \n",
        "import pandas as pd\n",
        "from datetime import datetime"
      ]
    },
    {
      "cell_type": "code",
      "source": [
        "sites = ['https://jamanetwork.com/journals/jama/fullarticle/2798990?resultClick=1', 'https://jamanetwork.com/journals/jama/fullarticle/2799872?resultClick=1', 'https://jamanetwork.com/journals/jama/fullarticle/2776054?resultClick=1']"
      ],
      "metadata": {
        "id": "dZtLM3OVpEA3"
      },
      "execution_count": null,
      "outputs": []
    },
    {
      "cell_type": "code",
      "source": [
        "date = [] #empty list\n",
        "\n",
        "for url in sites:\n",
        "\n",
        "  #reads html content\n",
        "  req = Request(url , headers={'User-Agent': 'Mozilla/5.0'})\n",
        "  webpage = urlopen(req).read()\n",
        "  soup = BeautifulSoup(webpage, \"html.parser\")\n",
        "  \n",
        "  #finds journal title\n",
        "  title = soup.find('h1', attrs={'class':'meta-article-title'}).get_text()\n",
        "\n",
        "  #finds journal accepted for publication date\n",
        "  accept = soup.find(\"strong\", text=\"Accepted for Publication:\").next_sibling.strip(\" .\")\n",
        "  accept = datetime.strptime(accept, '%B %d, %Y') #convert str to datetime\n",
        "  \n",
        "  #finds journal's online publishing date\n",
        "  publish = soup.find(\"strong\", text=\"Published Online:\").next_sibling.strip(\". doi:\")\n",
        "  publish = datetime.strptime(publish, '%B %d, %Y') #convert str to datetime\n",
        "\n",
        "  date.append([title, accept, publish]) #adds variables into list"
      ],
      "metadata": {
        "id": "th5S8EoOpcS-",
        "colab": {
          "base_uri": "https://localhost:8080/",
          "height": 244
        },
        "outputId": "4806c45c-f0bc-4107-f40e-2993f96b77e1"
      },
      "execution_count": null,
      "outputs": [
        {
          "output_type": "error",
          "ename": "AttributeError",
          "evalue": "ignored",
          "traceback": [
            "\u001b[0;31m---------------------------------------------------------------------------\u001b[0m",
            "\u001b[0;31mAttributeError\u001b[0m                            Traceback (most recent call last)",
            "\u001b[0;32m<ipython-input-9-5f1fbd615fa5>\u001b[0m in \u001b[0;36m<module>\u001b[0;34m\u001b[0m\n\u001b[1;32m     12\u001b[0m \u001b[0;34m\u001b[0m\u001b[0m\n\u001b[1;32m     13\u001b[0m   \u001b[0;31m#finds journal accepted for publication date\u001b[0m\u001b[0;34m\u001b[0m\u001b[0;34m\u001b[0m\u001b[0;34m\u001b[0m\u001b[0m\n\u001b[0;32m---> 14\u001b[0;31m   \u001b[0maccept\u001b[0m \u001b[0;34m=\u001b[0m \u001b[0msoup\u001b[0m\u001b[0;34m.\u001b[0m\u001b[0mfind\u001b[0m\u001b[0;34m(\u001b[0m\u001b[0;34m\"strong\"\u001b[0m\u001b[0;34m,\u001b[0m \u001b[0mtext\u001b[0m\u001b[0;34m=\u001b[0m\u001b[0;34m\"Accepted for Publication:\"\u001b[0m\u001b[0;34m)\u001b[0m\u001b[0;34m.\u001b[0m\u001b[0mnext_sibling\u001b[0m\u001b[0;34m.\u001b[0m\u001b[0mstrip\u001b[0m\u001b[0;34m(\u001b[0m\u001b[0;34m\" .\"\u001b[0m\u001b[0;34m)\u001b[0m\u001b[0;34m\u001b[0m\u001b[0;34m\u001b[0m\u001b[0m\n\u001b[0m\u001b[1;32m     15\u001b[0m   \u001b[0maccept\u001b[0m \u001b[0;34m=\u001b[0m \u001b[0mdatetime\u001b[0m\u001b[0;34m.\u001b[0m\u001b[0mstrptime\u001b[0m\u001b[0;34m(\u001b[0m\u001b[0maccept\u001b[0m\u001b[0;34m,\u001b[0m \u001b[0;34m'%B %d, %Y'\u001b[0m\u001b[0;34m)\u001b[0m \u001b[0;31m#convert str to datetime\u001b[0m\u001b[0;34m\u001b[0m\u001b[0;34m\u001b[0m\u001b[0m\n\u001b[1;32m     16\u001b[0m \u001b[0;34m\u001b[0m\u001b[0m\n",
            "\u001b[0;31mAttributeError\u001b[0m: 'NoneType' object has no attribute 'next_sibling'"
          ]
        }
      ]
    },
    {
      "cell_type": "code",
      "source": [
        "df = pd.DataFrame(date, columns=['Title', 'Accepted for Publication Date', 'Published Online Date'])\n",
        "df.to_csv('date.csv')"
      ],
      "metadata": {
        "id": "sqnC1z4spcd2"
      },
      "execution_count": null,
      "outputs": []
    }
  ]
}